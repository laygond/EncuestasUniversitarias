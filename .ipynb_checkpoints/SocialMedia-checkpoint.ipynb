{
 "cells": [
  {
   "cell_type": "markdown",
   "metadata": {},
   "source": [
    "# Analisis de Redes Sociales\n",
    "\n",
    "DESCRIPCION: La presente investigación trata sobre el consumo generado y consumido por estudiantes universitarios de la costa Ecuatoriana. Investigaremos cuáles son las redes sociales más utilizadas por los estudiantes universitarios, sus gustos al momento de escoger a quien seguir, cuantas horas al día le dedican a estas redes etc.\n",
    "\n",
    "La base de dato fue obtenida generosamente de la base de datos del SENESCYT. \n",
    "\n",
    "---\n",
    "\n",
    "Comenzamos importando los modulos que necesitamos para el procesamiento de datos."
   ]
  },
  {
   "cell_type": "code",
   "execution_count": 24,
   "metadata": {},
   "outputs": [],
   "source": [
    "import numpy as np\n",
    "import pandas as pd\n",
    "import matplotlib.pyplot as plt\n",
    "import matplotlib as mpl\n",
    "import matplotlib.pyplot as plt\n",
    "%matplotlib inline\n",
    "import seaborn as sns\n",
    "from subprocess import check_output\n",
    "# from wordcloud import WordCloud, STOPWORDS\n",
    "#import libraries"
   ]
  },
  {
   "cell_type": "markdown",
   "metadata": {},
   "source": [
    "Extraccion de la base de datos y visualizacion de las primeras 5 filas."
   ]
  },
  {
   "cell_type": "code",
   "execution_count": 52,
   "metadata": {},
   "outputs": [
    {
     "data": {
      "text/html": [
       "<div>\n",
       "<style scoped>\n",
       "    .dataframe tbody tr th:only-of-type {\n",
       "        vertical-align: middle;\n",
       "    }\n",
       "\n",
       "    .dataframe tbody tr th {\n",
       "        vertical-align: top;\n",
       "    }\n",
       "\n",
       "    .dataframe thead th {\n",
       "        text-align: right;\n",
       "    }\n",
       "</style>\n",
       "<table border=\"1\" class=\"dataframe\">\n",
       "  <thead>\n",
       "    <tr style=\"text-align: right;\">\n",
       "      <th></th>\n",
       "      <th>TopSocialMedia</th>\n",
       "      <th>TopSocialVideo</th>\n",
       "      <th>TopSocialMusic</th>\n",
       "      <th>TopSocialInfo</th>\n",
       "      <th>TopSocialEntertainment</th>\n",
       "    </tr>\n",
       "  </thead>\n",
       "  <tbody>\n",
       "    <tr>\n",
       "      <th>0</th>\n",
       "      <td>Instagram</td>\n",
       "      <td>Youtube</td>\n",
       "      <td>Spotify</td>\n",
       "      <td>Facebook</td>\n",
       "      <td>Netflix</td>\n",
       "    </tr>\n",
       "    <tr>\n",
       "      <th>1</th>\n",
       "      <td>Instagram</td>\n",
       "      <td>Youtube</td>\n",
       "      <td>Youtube</td>\n",
       "      <td>Google</td>\n",
       "      <td>Netflix</td>\n",
       "    </tr>\n",
       "    <tr>\n",
       "      <th>2</th>\n",
       "      <td>Snapchat</td>\n",
       "      <td>Youtube</td>\n",
       "      <td>Youtube</td>\n",
       "      <td>Wikipedia</td>\n",
       "      <td>Youtube</td>\n",
       "    </tr>\n",
       "    <tr>\n",
       "      <th>3</th>\n",
       "      <td>Facebook</td>\n",
       "      <td>Youtube</td>\n",
       "      <td>Youtube</td>\n",
       "      <td>Facebook</td>\n",
       "      <td>Youtube</td>\n",
       "    </tr>\n",
       "    <tr>\n",
       "      <th>4</th>\n",
       "      <td>Instagram</td>\n",
       "      <td>Youtube</td>\n",
       "      <td>Youtube</td>\n",
       "      <td>Google</td>\n",
       "      <td>Netflix</td>\n",
       "    </tr>\n",
       "  </tbody>\n",
       "</table>\n",
       "</div>"
      ],
      "text/plain": [
       "  TopSocialMedia TopSocialVideo TopSocialMusic TopSocialInfo  \\\n",
       "0     Instagram        Youtube         Spotify      Facebook   \n",
       "1     Instagram        Youtube        Youtube         Google   \n",
       "2       Snapchat       Youtube        Youtube      Wikipedia   \n",
       "3       Facebook       Youtube        Youtube       Facebook   \n",
       "4     Instagram        Youtube        Youtube         Google   \n",
       "\n",
       "  TopSocialEntertainment  \n",
       "0               Netflix   \n",
       "1               Netflix   \n",
       "2               Youtube   \n",
       "3               Youtube   \n",
       "4               Netflix   "
      ]
     },
     "execution_count": 52,
     "metadata": {},
     "output_type": "execute_result"
    }
   ],
   "source": [
    "df = pd.read_csv(\"BaseCentennials.csv\")\n",
    "data = pd.DataFrame(\n",
    "    {\n",
    "        \"TopSocialMedia\": df['R Social mas usada'],\n",
    "        \"TopSocialVideo\": df['Marca o nombre que se te venga a la cabeza (Video)'],\n",
    "        \"TopSocialMusic\": df['Marca o nombre que se te venga a la cabeza (musica)'],\n",
    "        \"TopSocialInfo\": df['Marca o nombre que se te venga a la cabeza (informarte)'],\n",
    "        \"TopSocialEntertainment\": df['Marca o nombre que se te venga a la cabeza (entretenimiento)'],\n",
    "    }\n",
    ")\n",
    "data = data.dropna()       #get rid of rows with na\n",
    "data = data.reset_index(drop=  True)\n",
    "\n",
    "data.head(5)"
   ]
  },
  {
   "cell_type": "markdown",
   "metadata": {},
   "source": [
    "# Resultados"
   ]
  },
  {
   "cell_type": "markdown",
   "metadata": {},
   "source": [
    "## Redes Sociales mas usadas"
   ]
  },
  {
   "cell_type": "code",
   "execution_count": 45,
   "metadata": {},
   "outputs": [
    {
     "name": "stdout",
     "output_type": "stream",
     "text": [
      "['Facebook' 'Instagram ' 'Snapchat' 'Twitter']\n",
      "Instagram     196\n",
      "Facebook      144\n",
      "Snapchat       27\n",
      "Twitter        21\n",
      "Name: TopSocialMedia, dtype: int64\n",
      "count            388\n",
      "unique             4\n",
      "top       Instagram \n",
      "freq             196\n",
      "Name: TopSocialMedia, dtype: object\n"
     ]
    },
    {
     "data": {
      "text/plain": [
       "<matplotlib.axes._subplots.AxesSubplot at 0x2132ec32b38>"
      ]
     },
     "execution_count": 45,
     "metadata": {},
     "output_type": "execute_result"
    },
    {
     "data": {
      "image/png": "[encoded data removed]",
      "text/plain": [
       "<Figure size 432x288 with 1 Axes>"
      ]
     },
     "metadata": {
      "needs_background": "light"
     },
     "output_type": "display_data"
    }
   ],
   "source": [
    "print(data['TopSocialMedia'].unique())\n",
    "print(data['TopSocialMedia'].value_counts())\n",
    "print(data['TopSocialMedia'].describe())\n",
    "data['TopSocialMedia'].value_counts().plot.bar(rot=0)"
   ]
  },
  {
   "cell_type": "markdown",
   "metadata": {},
   "source": [
    "## Redes Sociales usadas para Video"
   ]
  },
  {
   "cell_type": "code",
   "execution_count": 55,
   "metadata": {},
   "outputs": [
    {
     "name": "stdout",
     "output_type": "stream",
     "text": [
      "['Youtube ' 'Netflix' 'Google ' 'Facebook' 'Televisión' 'Instagram'\n",
      " 'Celular' 'roku' 'mtv' 'cuevana' 'apple music']\n",
      "Youtube        311\n",
      "Netflix         17\n",
      "Google          13\n",
      "Celular          4\n",
      "Facebook         4\n",
      "Instagram        2\n",
      "mtv              2\n",
      "Televisión       2\n",
      "roku             1\n",
      "apple music      1\n",
      "cuevana          1\n",
      "Name: TopSocialVideo, dtype: int64\n",
      "count          358\n",
      "unique          11\n",
      "top       Youtube \n",
      "freq           311\n",
      "Name: TopSocialVideo, dtype: object\n"
     ]
    },
    {
     "data": {
      "text/plain": [
       "<matplotlib.axes._subplots.AxesSubplot at 0x2132ed45c50>"
      ]
     },
     "execution_count": 55,
     "metadata": {},
     "output_type": "execute_result"
    },
    {
     "data": {
      "image/png": "[encoded data removed]",
      "text/plain": [
       "<Figure size 432x288 with 1 Axes>"
      ]
     },
     "metadata": {
      "needs_background": "light"
     },
     "output_type": "display_data"
    }
   ],
   "source": [
    "print(data['TopSocialVideo'].unique())\n",
    "print(data['TopSocialVideo'].value_counts())\n",
    "print(data['TopSocialVideo'].describe())\n",
    "data['TopSocialVideo'].value_counts().plot.bar()"
   ]
  },
  {
   "cell_type": "markdown",
   "metadata": {},
   "source": [
    "## Redes Sociales usadas para Musica"
   ]
  },
  {
   "cell_type": "code",
   "execution_count": 56,
   "metadata": {},
   "outputs": [
    {
     "name": "stdout",
     "output_type": "stream",
     "text": [
      "['Spotify' 'Youtube ' 'Play music' 'Apple music' 'Google ' 'Instagram '\n",
      " 'Facebook' 'Play Music' 'Itunes' 'Celular' 'Music Downloader' 'radio'\n",
      " 'mtv']\n",
      "Spotify             168\n",
      "Youtube             141\n",
      "Apple music          14\n",
      "Play music           10\n",
      "radio                 7\n",
      "Google                5\n",
      "Celular               4\n",
      "Play Music            3\n",
      "Music Downloader      2\n",
      "Itunes                1\n",
      "Instagram             1\n",
      "mtv                   1\n",
      "Facebook              1\n",
      "Name: TopSocialMusic, dtype: int64\n",
      "count         358\n",
      "unique         13\n",
      "top       Spotify\n",
      "freq          168\n",
      "Name: TopSocialMusic, dtype: object\n"
     ]
    },
    {
     "data": {
      "text/plain": [
       "<matplotlib.axes._subplots.AxesSubplot at 0x2132ee01748>"
      ]
     },
     "execution_count": 56,
     "metadata": {},
     "output_type": "execute_result"
    },
    {
     "data": {
      "image/png": "[encoded data removed]",
      "text/plain": [
       "<Figure size 432x288 with 1 Axes>"
      ]
     },
     "metadata": {
      "needs_background": "light"
     },
     "output_type": "display_data"
    }
   ],
   "source": [
    "print(data['TopSocialMusic'].unique())\n",
    "print(data['TopSocialMusic'].value_counts())\n",
    "print(data['TopSocialMusic'].describe())\n",
    "data['TopSocialMusic'].value_counts().plot.bar()"
   ]
  },
  {
   "cell_type": "markdown",
   "metadata": {},
   "source": [
    "## Redes Sociales usadas para Informacion"
   ]
  },
  {
   "cell_type": "code",
   "execution_count": 57,
   "metadata": {},
   "outputs": [
    {
     "name": "stdout",
     "output_type": "stream",
     "text": [
      "['Facebook' 'Google' 'Wikipedia' 'Youtube ' 'Periodicos ' 'Instagram '\n",
      " 'Noticias ' 'Twitter' 'Safari' 'Redes Sociales' 'Buscador' 'Internet'\n",
      " 'Celular' 'eluniverso.com' 'libros']\n",
      "Google            181\n",
      "Noticias           41\n",
      "Facebook           41\n",
      "Twitter            21\n",
      "Youtube            20\n",
      "Wikipedia          17\n",
      "Instagram          16\n",
      "Periodicos          7\n",
      "Safari              4\n",
      "Redes Sociales      2\n",
      "Internet            2\n",
      "Buscador            2\n",
      "Celular             2\n",
      "eluniverso.com      1\n",
      "libros              1\n",
      "Name: TopSocialInfo, dtype: int64\n",
      "count        358\n",
      "unique        15\n",
      "top       Google\n",
      "freq         181\n",
      "Name: TopSocialInfo, dtype: object\n"
     ]
    },
    {
     "data": {
      "text/plain": [
       "<matplotlib.axes._subplots.AxesSubplot at 0x2132eb94b70>"
      ]
     },
     "execution_count": 57,
     "metadata": {},
     "output_type": "execute_result"
    },
    {
     "data": {
      "image/png": "[encoded data removed]",
      "text/plain": [
       "<Figure size 432x288 with 1 Axes>"
      ]
     },
     "metadata": {
      "needs_background": "light"
     },
     "output_type": "display_data"
    }
   ],
   "source": [
    "print(data['TopSocialInfo'].unique())\n",
    "print(data['TopSocialInfo'].value_counts())\n",
    "print(data['TopSocialInfo'].describe())\n",
    "data['TopSocialInfo'].value_counts().plot.bar()"
   ]
  },
  {
   "cell_type": "markdown",
   "metadata": {},
   "source": [
    "## Redes Sociales usadas para Entretenimiento"
   ]
  },
  {
   "cell_type": "code",
   "execution_count": 58,
   "metadata": {},
   "outputs": [
    {
     "name": "stdout",
     "output_type": "stream",
     "text": [
      "['Netflix ' 'Youtube ' 'Facebook' 'Desarrollo de conocimiento ' 'Dinero'\n",
      " 'Ver television ' 'Instagram ' 'Google' 'Televisión' 'Series' 'Celular'\n",
      " 'Free fire' 'Tik Tok' 'Fortnite' 'Play Station' 'Pinterest' 'futbol'\n",
      " 'candy crush' 'nintendo' 'insanity' 'snapchat' 'tinder']\n",
      "Netflix                        106\n",
      "Facebook                        86\n",
      "Youtube                         75\n",
      "Instagram                       47\n",
      "Ver television                   8\n",
      "Televisión                       7\n",
      "Google                           6\n",
      "Celular                          4\n",
      "Series                           4\n",
      "nintendo                         2\n",
      "Play Station                     2\n",
      "tinder                           1\n",
      "Fortnite                         1\n",
      "insanity                         1\n",
      "Free fire                        1\n",
      "snapchat                         1\n",
      "Tik Tok                          1\n",
      "Pinterest                        1\n",
      "Dinero                           1\n",
      "futbol                           1\n",
      "candy crush                      1\n",
      "Desarrollo de conocimiento       1\n",
      "Name: TopSocialEntertainment, dtype: int64\n",
      "count          358\n",
      "unique          22\n",
      "top       Netflix \n",
      "freq           106\n",
      "Name: TopSocialEntertainment, dtype: object\n"
     ]
    },
    {
     "data": {
      "text/plain": [
       "<matplotlib.axes._subplots.AxesSubplot at 0x2132e6bc8d0>"
      ]
     },
     "execution_count": 58,
     "metadata": {},
     "output_type": "execute_result"
    },
    {
     "data": {
      "image/png": "[encoded data removed]",
      "text/plain": [
       "<Figure size 432x288 with 1 Axes>"
      ]
     },
     "metadata": {
      "needs_background": "light"
     },
     "output_type": "display_data"
    }
   ],
   "source": [
    "print(data['TopSocialEntertainment'].unique())\n",
    "print(data['TopSocialEntertainment'].value_counts())\n",
    "print(data['TopSocialEntertainment'].describe())\n",
    "data['TopSocialEntertainment'].value_counts().plot.bar()"
   ]
  }
 ],
 "metadata": {
  "kernelspec": {
   "display_name": "Python 3",
   "language": "python",
   "name": "python3"
  },
  "language_info": {
   "codemirror_mode": {
    "name": "ipython",
    "version": 3
   },
   "file_extension": ".py",
   "mimetype": "text/x-python",
   "name": "python",
   "nbconvert_exporter": "python",
   "pygments_lexer": "ipython3",
   "version": "3.7.0"
  }
 },
 "nbformat": 4,
 "nbformat_minor": 2
}
